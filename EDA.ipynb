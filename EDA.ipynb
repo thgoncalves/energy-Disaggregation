{
 "cells": [
  {
   "cell_type": "code",
   "execution_count": 1,
   "metadata": {},
   "outputs": [],
   "source": [
    "import pandas as pd"
   ]
  },
  {
   "cell_type": "code",
   "execution_count": 12,
   "metadata": {},
   "outputs": [],
   "source": [
    "df = pd.read_csv('data/H1_AllTaggingInfo.csv')"
   ]
  },
  {
   "cell_type": "code",
   "execution_count": 13,
   "metadata": {},
   "outputs": [],
   "source": [
    "df = df.reset_index"
   ]
  },
  {
   "cell_type": "code",
   "execution_count": 14,
   "metadata": {},
   "outputs": [
    {
     "data": {
      "text/plain": [
       "<bound method DataFrame.reset_index of      30  Outside Over Garage Lights  1350939540  1350939600\n",
       "0    30  Outside Over Garage Lights  1350939660  1350939720\n",
       "1    30  Outside Over Garage Lights  1350939780  1350939840\n",
       "2    29   Outside Front Door Lights  1350939900  1350939960\n",
       "3    29   Outside Front Door Lights  1350940020  1350940080\n",
       "4    29   Outside Front Door Lights  1350940140  1350940200\n",
       "..   ..                         ...         ...         ...\n",
       "105  32             Portable Vacuum  1334356920  1334357010\n",
       "106   8              Central Vacuum  1334357040  1334357070\n",
       "107  35                     Toaster  1356635820  1356635880\n",
       "108  35                     Toaster  1356635940  1356636000\n",
       "109  35                     Toaster  1356636060  1356636120\n",
       "\n",
       "[110 rows x 4 columns]>"
      ]
     },
     "execution_count": 14,
     "metadata": {},
     "output_type": "execute_result"
    }
   ],
   "source": [
    "df"
   ]
  },
  {
   "cell_type": "code",
   "execution_count": null,
   "metadata": {},
   "outputs": [],
   "source": []
  }
 ],
 "metadata": {
  "kernelspec": {
   "display_name": "Python 3",
   "language": "python",
   "name": "python3"
  },
  "language_info": {
   "codemirror_mode": {
    "name": "ipython",
    "version": 3
   },
   "file_extension": ".py",
   "mimetype": "text/x-python",
   "name": "python",
   "nbconvert_exporter": "python",
   "pygments_lexer": "ipython3",
   "version": "3.7.4"
  }
 },
 "nbformat": 4,
 "nbformat_minor": 4
}
